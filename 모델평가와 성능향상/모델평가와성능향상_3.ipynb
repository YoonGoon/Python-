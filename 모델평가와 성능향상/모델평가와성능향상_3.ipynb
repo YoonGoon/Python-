{
 "cells": [
  {
   "cell_type": "markdown",
   "metadata": {},
   "source": [
    "평가 지표와 측정\n",
    "\n",
    "- 현재까지 분류 성능 평가에는 정확도, 회귀 성능 평가에는 R2을 이용했다.\n",
    "- 실전에는 다양한 모델 성능 평가 방법이 있고, 모델 선택 및 매개변수 튜닝시 올바른 지표 선택이 중요하다. \n",
    "\n",
    "    1) 최종 목표 기억\n",
    "    - 평가 지표 선택 시, 머신러닝 애플리케이션의 최종 목표를 기억해야 한다. \n",
    "    - 교통사고 회피, 소비자 유치 등의 다양한 비즈니스 임팩트가 있다. \n",
    "    - 특정 모델이 비즈니스에 영향을 끼치려면 실제 운영시스템에 적용해야 알 수 있어 어려운 문제다. \n",
    "    - 실제 운영시스템에 바로 적용하기는 힘들어 이러한 경우 평가지표를 이용한 대리 평가 방식을 종종 이용한다. \n",
    "    \n",
    "    2) 이진분류의 평가 지표\n",
    "    - 실전에서 가장 널리 이용하고 개념도 쉬운 알고리즘.\n",
    "    - 이진분류에는 양성, 음성 클래스로 나뉘고 주로 양성 클래스가 분석가의 관심사이다. \n",
    "    \n",
    "        - 에러의 종류\n",
    "        - 잘못 분류한 샘플의 수가 원하는 정보의 전부는 아니므로, 정확도만으로는 예측 성능 측정하기 부족한 경우가 있다. \n",
    "        - 통계학에서는 FP(False Positive)를 타입 1 에러, FN(False Negative)를 타입2에러라고 한다. \n",
    "        - 암을 예로 들면 FP보다 FN이 더 중요하다. \n",
    "        \n",
    "        \n",
    "        - 불균형 데이터셋\n",
    "        - 한 클래스가 다른 것보다 훨씬 많은 데이터 셋을 불균형 데이터셋이라고 한다. \n",
    "        - 현실에서는 불균형 데이터셋이 많으며 이를 고려하지 않으면 실제 데이터 적용시 진짜 좋은 모델과, 단순히 불균형 데이터셋에 치우친 모델 구분이 어렵다."
   ]
  },
  {
   "cell_type": "code",
   "execution_count": 1,
   "metadata": {},
   "outputs": [
    {
     "name": "stderr",
     "output_type": "stream",
     "text": [
      "c:\\users\\cndak\\appdata\\local\\programs\\python\\python37\\lib\\site-packages\\numpy\\core\\__init__.py:29: UserWarning: loaded more than 1 DLL from .libs:\n",
      "c:\\users\\cndak\\appdata\\local\\programs\\python\\python37\\lib\\site-packages\\numpy\\.libs\\libopenblas.PYQHXLVVQ7VESDPUVUADXEVJOBGHJPAY.gfortran-win_amd64.dll\n",
      "c:\\users\\cndak\\appdata\\local\\programs\\python\\python37\\lib\\site-packages\\numpy\\.libs\\libopenblas.TXA6YQSD3GCQQC22GEQ54J2UDCXDXHWN.gfortran-win_amd64.dll\n",
      "  stacklevel=1)\n"
     ]
    }
   ],
   "source": [
    "#예를 이용해 9:1 불균형 데이터셋 생성\n",
    "\n",
    "from sklearn.datasets import load_digits\n",
    "from sklearn.model_selection import train_test_split\n",
    "\n",
    "digits = load_digits()\n",
    "y = digits.target ==9\n",
    "\n",
    "X_train, X_test, y_train, y_test = train_test_split(digits.data, y, random_state = 0)"
   ]
  },
  {
   "cell_type": "code",
   "execution_count": 6,
   "metadata": {},
   "outputs": [
    {
     "name": "stdout",
     "output_type": "stream",
     "text": [
      "예측 레이블의 레이블 : [False]\n",
      "테스트 점수 : 0.8955555555555555\n"
     ]
    }
   ],
   "source": [
    "#항상 다수인 클래스를 예측값으로 내놓는 DummyClassifier를 이용해 정확도 계산\n",
    "from sklearn.dummy import DummyClassifier\n",
    "import numpy as np\n",
    "\n",
    "dummy_majority = DummyClassifier(strategy = 'most_frequent').fit(X_train, y_train)\n",
    "pred_most_frequent = dummy_majority.predict(X_test)\n",
    "print('예측 레이블의 레이블 :', np.unique(pred_most_frequent))\n",
    "print('테스트 점수 :', dummy_majority.score(X_test, y_test))\n",
    "\n",
    "#dummyclassifier는 클래스 레이블 비율에 맞게 예측하는  stratified, 가장 많은 레이블을 예측하는 most_frequent 등이 있다. \n",
    "#dummyregressor가 있고 평균값 예측, 중간값 예측 등이 있다. "
   ]
  },
  {
   "cell_type": "markdown",
   "metadata": {},
   "source": [
    "- 현재 거의 아무것도 학습하지 않고 약 90%의 정확도를 얻었다. \n",
    "- 불균형 데이터셋의 경우 무조건 한 클래스를 예측하기만해도 정확도가 높게 나타날 수 있다는 것을 확인했다.\n"
   ]
  },
  {
   "cell_type": "code",
   "execution_count": 5,
   "metadata": {},
   "outputs": [
    {
     "name": "stdout",
     "output_type": "stream",
     "text": [
      "테스트 점수 : 0.9177777777777778\n"
     ]
    }
   ],
   "source": [
    "#비교를 위한 DT\n",
    "from sklearn.tree import DecisionTreeClassifier\n",
    "\n",
    "tree = DecisionTreeClassifier(max_depth = 2).fit(X_train, y_train)\n",
    "pred_tree = tree.predict(X_test)\n",
    "print('테스트 점수 :', tree.score(X_test, y_test))"
   ]
  },
  {
   "cell_type": "markdown",
   "metadata": {},
   "source": [
    "- DT는 더미 분류기보다 조금 나을 뿐이다.\n",
    "- DT를 잘못 사용했거나, 이 문제에서는 정확도가 높은 측정 방법이 아님을 말해준다. "
   ]
  },
  {
   "cell_type": "code",
   "execution_count": 8,
   "metadata": {},
   "outputs": [
    {
     "name": "stdout",
     "output_type": "stream",
     "text": [
      "dummy 점수 : 0.8177777777777778\n",
      "logreg 점수 : 0.9777777777777777\n"
     ]
    },
    {
     "name": "stderr",
     "output_type": "stream",
     "text": [
      "c:\\users\\cndak\\appdata\\local\\programs\\python\\python37\\lib\\site-packages\\sklearn\\linear_model\\logistic.py:432: FutureWarning: Default solver will be changed to 'lbfgs' in 0.22. Specify a solver to silence this warning.\n",
      "  FutureWarning)\n"
     ]
    }
   ],
   "source": [
    "#비교를 위한 LogisticRegression, DummyClassifier\n",
    "\n",
    "from sklearn.linear_model import LogisticRegression\n",
    "\n",
    "dummy = DummyClassifier().fit(X_train, y_train)\n",
    "pred_dummy = dummy.predict(X_test)\n",
    "print('dummy 점수 :', dummy.score(X_test, y_test))\n",
    "\n",
    "logreg = LogisticRegression(C=0.1).fit(X_train, y_train)\n",
    "pred_logreg = logreg.predict(X_test)\n",
    "print('logreg 점수 :', logreg.score(X_test, y_test))"
   ]
  },
  {
   "cell_type": "markdown",
   "metadata": {},
   "source": [
    "- 무작위로 예측하는 더미 분류기는 결과가 좋지않다. \n",
    "- 불균형 데이터셋에서 예측 성능을 정량화하는데 정확도는 적절한 측정 방법이 아니다. "
   ]
  },
  {
   "cell_type": "markdown",
   "metadata": {},
   "source": [
    "오차 행렬\n",
    "\n",
    "- 이진 분류 평가 결과를 나타낼 때 가장 널리 이용하는 방법 중 하나"
   ]
  },
  {
   "cell_type": "code",
   "execution_count": 10,
   "metadata": {},
   "outputs": [
    {
     "name": "stdout",
     "output_type": "stream",
     "text": [
      "오차 행렬 : \n",
      " [[401   2]\n",
      " [  8  39]]\n"
     ]
    }
   ],
   "source": [
    "#앞의 LogisticRegression 예측결과를 confusion_matrix를 이용해 확인\n",
    "\n",
    "from sklearn.metrics import confusion_matrix\n",
    "\n",
    "confusion = confusion_matrix(y_test, pred_logreg)\n",
    "print('오차 행렬 : \\n', confusion)"
   ]
  },
  {
   "cell_type": "markdown",
   "metadata": {},
   "source": [
    "행은 정답 클래스, 열은 예측 클래스"
   ]
  },
  {
   "cell_type": "code",
   "execution_count": 12,
   "metadata": {},
   "outputs": [
    {
     "data": {
      "image/png": "[encoded data removed]",
      "text/plain": [
       "<Figure size 576x576 with 1 Axes>"
      ]
     },
     "metadata": {
      "needs_background": "light"
     },
     "output_type": "display_data"
    }
   ],
   "source": [
    "import mglearn\n",
    "\n",
    "mglearn.plots.plot_confusion_matrix_illustration()"
   ]
  },
  {
   "cell_type": "markdown",
   "metadata": {},
   "source": [
    "오차 행렬의 대각 행렬은 정확히 분류된 경우고 다른 항목은 다른 클래스로 분류된 것"
   ]
  },
  {
   "cell_type": "code",
   "execution_count": 13,
   "metadata": {},
   "outputs": [
    {
     "data": {
      "image/png": "[encoded data removed]",
      "text/plain": [
       "<Figure size 432x288 with 1 Axes>"
      ]
     },
     "metadata": {
      "needs_background": "light"
     },
     "output_type": "display_data"
    }
   ],
   "source": [
    "mglearn.plots.plot_binary_confusion_matrix()"
   ]
  },
  {
   "cell_type": "code",
   "execution_count": 14,
   "metadata": {},
   "outputs": [
    {
     "name": "stdout",
     "output_type": "stream",
     "text": [
      "빈도 기반 더미 :\n",
      "[[403   0]\n",
      " [ 47   0]]\n",
      "\n",
      "무작위 더미 모델 :\n",
      "[[357  46]\n",
      " [ 44   3]]\n",
      "\n",
      "결정 트리 :\n",
      "[[390  13]\n",
      " [ 24  23]]\n",
      "\n",
      "로지스틱 회귀 :\n",
      "[[401   2]\n",
      " [  8  39]]\n"
     ]
    }
   ],
   "source": [
    "#오차 행렬로 앞서 만든 모델 비교\n",
    "\n",
    "print('빈도 기반 더미 :')\n",
    "print(confusion_matrix(y_test, pred_most_frequent))\n",
    "print('\\n무작위 더미 모델 :')\n",
    "print(confusion_matrix(y_test, pred_dummy))\n",
    "print('\\n결정 트리 :')\n",
    "print(confusion_matrix(y_test, pred_tree))\n",
    "print('\\n로지스틱 회귀 :')\n",
    "print(confusion_matrix(y_test, pred_logreg))"
   ]
  },
  {
   "cell_type": "markdown",
   "metadata": {},
   "source": [
    "- 오차 행렬 확인시 pred_most_frequent는 잘못 되었다. 동일한 클래스만을 예측하기 때문\n",
    "- 이 오차행렬을 정확도로 표현하는 방법\n",
    "\n",
    "                                 TP+TN\n",
    "      정확도 =           ---------------------\n",
    "                             TP +TN +FP +FN\n",
    "                             \n",
    "                             \n",
    "                                  TP\n",
    "      정밀도 =           ---------------------   (얼마나 많은 샘플이 진짜 양성인지 측정 , 거짓 양성의 수를 줄이는 것이 목표 일때 이용 = PPV )\n",
    "                                TP +  FP\n",
    "                             \n",
    "                             \n",
    "                                  TP\n",
    "      재현율 =           ----------------------   ( 모든 양성 샘플을 식별해야 할 떄 이용, 거짓 음성 샘플을 피할 때 이용 = 민감도, 적중률, TPR )          \n",
    "                               TP + FN\n",
    "                               \n",
    "- 재현율 최적화와 정밀도 최적화는 상충한다. \n",
    "- 정밀도와 재현율의 조화 평균인 f-점수(f-측정)은 이 둘을 하나로 요약해준다. \n",
    "\n",
    "                  정밀도 * 재현율\n",
    "      F = 2 * --------------------------\n",
    "                   정밀도 + 재현율\n",
    "                   \n",
    "- 정밀도와 재현율을 같이 고려하므로 불균형한 이진 분류 데이터셋에서는 정확도보다 더 나은 지표"
   ]
  },
  {
   "cell_type": "code",
   "execution_count": 15,
   "metadata": {},
   "outputs": [
    {
     "name": "stdout",
     "output_type": "stream",
     "text": [
      "빈도기반 더미 f1 0.0\n",
      "무작위 더미 f1 0.0625\n",
      "트리 모델 f1 0.5542168674698795\n",
      "로지스틱 회귀 모델 f1 0.8863636363636364\n"
     ]
    },
    {
     "name": "stderr",
     "output_type": "stream",
     "text": [
      "c:\\users\\cndak\\appdata\\local\\programs\\python\\python37\\lib\\site-packages\\sklearn\\metrics\\classification.py:1437: UndefinedMetricWarning: F-score is ill-defined and being set to 0.0 due to no predicted samples.\n",
      "  'precision', 'predicted', average, warn_for)\n"
     ]
    }
   ],
   "source": [
    "#F-점수를 적용\n",
    "from sklearn.metrics import f1_score\n",
    "print('빈도기반 더미 f1', f1_score(y_test,pred_most_frequent))\n",
    "print('무작위 더미 f1', f1_score(y_test, pred_dummy))\n",
    "print('트리 모델 f1', f1_score(y_test, pred_tree))\n",
    "print('로지스틱 회귀 모델 f1', f1_score(y_test, pred_logreg))"
   ]
  },
  {
   "cell_type": "markdown",
   "metadata": {},
   "source": [
    "- 이전에 정확도로 평가 한것과는 다른 결과가 나타남.\n",
    "- 직관적으로 판단하는 데는 정확도보다 f1점수가 낫지만, 정확도보다 이해하거나 설명하기 어렵다. "
   ]
  },
  {
   "cell_type": "code",
   "execution_count": 16,
   "metadata": {},
   "outputs": [
    {
     "name": "stdout",
     "output_type": "stream",
     "text": [
      "              precision    recall  f1-score   support\n",
      "\n",
      "        9 아님       0.90      1.00      0.94       403\n",
      "           9       0.00      0.00      0.00        47\n",
      "\n",
      "    accuracy                           0.90       450\n",
      "   macro avg       0.45      0.50      0.47       450\n",
      "weighted avg       0.80      0.90      0.85       450\n",
      "\n"
     ]
    },
    {
     "name": "stderr",
     "output_type": "stream",
     "text": [
      "c:\\users\\cndak\\appdata\\local\\programs\\python\\python37\\lib\\site-packages\\sklearn\\metrics\\classification.py:1437: UndefinedMetricWarning: Precision and F-score are ill-defined and being set to 0.0 in labels with no predicted samples.\n",
      "  'precision', 'predicted', average, warn_for)\n"
     ]
    }
   ],
   "source": [
    "#classification_report로 정밀도, 재현율, f1점수 한번에 계산하여 깔끔하게 출력해준다.\n",
    "\n",
    "from sklearn.metrics import classification_report\n",
    "\n",
    "print(classification_report(y_test, pred_most_frequent, target_names=['9 아님', '9']))"
   ]
  },
  {
   "cell_type": "markdown",
   "metadata": {},
   "source": [
    "- 열은 정밀도, 재현율, f1스코어, 지지도(진짜 샘플 수) 순서로 표시되며 행은 True, False, 정확도, 평균, 가중평균을 나타낸다."
   ]
  },
  {
   "cell_type": "code",
   "execution_count": 17,
   "metadata": {},
   "outputs": [
    {
     "name": "stdout",
     "output_type": "stream",
     "text": [
      "              precision    recall  f1-score   support\n",
      "\n",
      "        9 아님       0.89      0.89      0.89       403\n",
      "           9       0.06      0.06      0.06        47\n",
      "\n",
      "    accuracy                           0.80       450\n",
      "   macro avg       0.48      0.47      0.48       450\n",
      "weighted avg       0.80      0.80      0.80       450\n",
      "\n"
     ]
    }
   ],
   "source": [
    "print(classification_report(y_test, pred_dummy, target_names=['9 아님','9']))"
   ]
  },
  {
   "cell_type": "code",
   "execution_count": null,
   "metadata": {},
   "outputs": [],
   "source": []
  }
 ],
 "metadata": {
  "kernelspec": {
   "display_name": "Python 3",
   "language": "python",
   "name": "python3"
  },
  "language_info": {
   "codemirror_mode": {
    "name": "ipython",
    "version": 3
   },
   "file_extension": ".py",
   "mimetype": "text/x-python",
   "name": "python",
   "nbconvert_exporter": "python",
   "pygments_lexer": "ipython3",
   "version": "3.7.4"
  }
 },
 "nbformat": 4,
 "nbformat_minor": 4
}
