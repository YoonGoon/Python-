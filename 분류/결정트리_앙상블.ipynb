{
 "cells": [
  {
   "cell_type": "code",
   "execution_count": 1,
   "metadata": {},
   "outputs": [],
   "source": [
    "# 필요한 라이브러리 로딩\n",
    "\n",
    "from sklearn.datasets import make_moons # 예제 데이터셋 \n",
    "from skelearn.datasets import load_breast_cancer # 예제 데이터셋2\n",
    "from sklearn.ensemble import RandomForestClassifier\n",
    "from skelearn.ensemble import GradientBoostingClassifier\n",
    "from preamble import *\n",
    "from sklearn.model_selection import train_test_split\n",
    "from sklearn.linear_model import LogisticRegression\n",
    "from sklearn.tree import DecisionTreeClassifier\n",
    "from sklearn.ensemble import BaggingClassifier\n",
    "from sklearn.ensemble import ExtraTreesClassifier\n",
    "from sklearn.ensemble import AdaBoostClassifier"
   ]
  },
  {
   "cell_type": "code",
   "execution_count": null,
   "metadata": {},
   "outputs": [],
   "source": [
    "#랜덤 포레스트\n",
    "\n",
    "#moon 데이터셋 로드 및 스플릿\n",
    "X,y = make_moons(n_samples = 100, noise =0.25, random_state=3)\n",
    "Xm,ym=make_moons(n_samples = 100, noise =0.25, random_state=3)\n",
    "Xm_train, Xm_test, ym_train, ym_test = train_test_split(X, y, stratify = y, random_state =42)\n",
    "\n",
    "#트리5개 기본값 모델 생성 및 학습\n",
    "\n",
    "forest=RandomForestClassifier(n_estimators=5, random_state=2)\n",
    "forest.fit(Xm_train, ym_train)\n",
    "\n",
    "#학습 결과인 결정경게 시각화 -> 밑의 여러 모델 중 결정경계 확인 하려면 이 소스를 이용하여 확인 \n",
    "# froest.etimators만 다른 모델로 변경하고 변수를 변경해주면된다. \n",
    "\n",
    "fig, axes = plt.subplots(2,3, figsize=(20,10))\n",
    "for i, (ax, tree) in enumerate(zip(axes.rave(), forest.estimators_)):\n",
    "    ax.set_title(\" 트리 {}\".format(i))\n",
    "    mglearn.plots.plot_tree_partition(X, y, tree, ax=ax)\n",
    "    \n",
    "mglearn.plots.plot_2d_separator(forest, X, fill = True, ax=axes[-1,-1], alph=.4)\n",
    "axes[-1, -1].set_title('랜덤 포레스트')\n",
    "mglearn.discreate_scatter(X[:,0],X[:,1],y)\n",
    "\n",
    "\n"
   ]
  },
  {
   "cell_type": "code",
   "execution_count": 2,
   "metadata": {},
   "outputs": [],
   "source": [
    "#유방암 데이터셋 적용\n",
    "cancer= load_breast_cancer()\n",
    "Xc_train, Xc_test, yc_train, yc_test = train_test_split(cancer.data, cancer.target, random_state=0)\n",
    "\n",
    "#트리 100개 기본값 모델 생성 및 학습과 정확도 \n",
    "forest=RandomForestClassifier(n_estimators=100, random_state=0)\n",
    "forest.fit(Xc_train, yc_train)\n",
    "\n",
    "print('훈련셋 정확도 :{:.3f}'.format(forest.score(Xc_train,yc_train)))\n",
    "print('테스트셋 정확도 :{:.3f}'.format(forest.score(Xc_test, yc_test)))"
   ]
  },
  {
   "cell_type": "code",
   "execution_count": null,
   "metadata": {},
   "outputs": [],
   "source": [
    "# 랜덤 포레스트의 특성 중요도 확인\n",
    "plot_feature_importances_cancer(forest)"
   ]
  },
  {
   "cell_type": "code",
   "execution_count": null,
   "metadata": {},
   "outputs": [],
   "source": [
    "#그레디언트 부스팅 \n",
    "\n",
    "#cancer 데이터 \n",
    "gbrt=GradientBoostingClassifier(random_state=0)\n",
    "gbrt.fit(Xc_train, yc_train)\n",
    "\n",
    "print('훈련셋 정확도 :{:.3f}'.format(gbrt.score(Xc_train,yc_train)))\n",
    "print('테스트셋 정확도 :{:.3f}'.format(gbrt.score(Xc_test, yc_test)))\n",
    "\n",
    "#훈련 세트의 정확도가 100%로 과대적합이다 과대적합을 줄이기 위해 가지치기, 학습률 낮추기가 있다.\n",
    "#gbrt=GradientBoostingClassifier(max_depth=1, learning-rate=0.01, random_state=0) 과 같다. "
   ]
  },
  {
   "cell_type": "code",
   "execution_count": null,
   "metadata": {},
   "outputs": [],
   "source": [
    "# 그레디언트 부스팅의 특성 중요도 확인\n",
    "plot_feature_importances_cancer(gbrt)"
   ]
  },
  {
   "cell_type": "code",
   "execution_count": null,
   "metadata": {},
   "outputs": [],
   "source": [
    "#배깅 - logistic \n",
    "\n",
    "bagging = BaggingClassifier(LogisticRegression(), n_estimators=100,\n",
    "                           obb_score=True, n_jobs=1, random_state=42)\n",
    "bagging.fit(Xc_train, yc_train)\n",
    "\n",
    "print('훈련셋 정확도 :{:.3f}'.format(bagging.score(Xc_train,yc_train)))\n",
    "print('테스트셋 정확도 :{:.3f}'.format(bagging.score(Xc_test, yc_test)))\n",
    "print('OOB샘플 정확도 :{:.3f}'.format(bagging.oob_score)"
   ]
  },
  {
   "cell_type": "code",
   "execution_count": null,
   "metadata": {},
   "outputs": [],
   "source": [
    "#배깅 - DT\n",
    "\n",
    "bagging = BaggingClassifier(DecisionTreeClassifier(), n_estimators=100,\n",
    "                           obb_score=True, n_jobs=1, random_state=42)\n",
    "bagging.fit(Xc_train, yc_train)\n",
    "\n",
    "print('훈련셋 정확도 :{:.3f}'.format(bagging.score(Xc_train,yc_train)))\n",
    "print('테스트셋 정확도 :{:.3f}'.format(bagging.score(Xc_test, yc_test)))\n",
    "print('OOB샘플 정확도 :{:.3f}'.format(bagging.oob_score)"
   ]
  },
  {
   "cell_type": "code",
   "execution_count": null,
   "metadata": {},
   "outputs": [],
   "source": [
    "#엑스트라 트리 \n",
    "\n",
    "xtree=ExtraTreesClassifier(n_estimators=5, n_jobs=1, random_state=0)\n",
    "xtree.fit(Xc_train, yc_train)\n",
    "\n",
    "print('훈련셋 정확도 :{:.3f}'.format(xtree.score(Xc_train,yc_train)))\n",
    "print('테스트셋 정확도 :{:.3f}'.format(xtree.score(Xc_test, yc_test)))"
   ]
  },
  {
   "cell_type": "code",
   "execution_count": null,
   "metadata": {},
   "outputs": [],
   "source": [
    "#에이다 부스팅\n",
    "ada = AdaBoostClassifier(n_estimators=5, random_state=42)\n",
    "ada.fit(Xc_train, yc_train)\n",
    "\n",
    "print('훈련셋 정확도 :{:.3f}'.format(ada.score(Xc_train,yc_train)))\n",
    "print('테스트셋 정확도 :{:.3f}'.format(ada.score(Xc_test, yc_test)))"
   ]
  }
 ],
 "metadata": {
  "kernelspec": {
   "display_name": "Python 3",
   "language": "python",
   "name": "python3"
  },
  "language_info": {
   "codemirror_mode": {
    "name": "ipython",
    "version": 3
   },
   "file_extension": ".py",
   "mimetype": "text/x-python",
   "name": "python",
   "nbconvert_exporter": "python",
   "pygments_lexer": "ipython3",
   "version": "3.7.4"
  }
 },
 "nbformat": 4,
 "nbformat_minor": 4
}
