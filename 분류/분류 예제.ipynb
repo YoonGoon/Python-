{
 "cells": [
  {
   "cell_type": "code",
   "execution_count": 5,
   "metadata": {},
   "outputs": [],
   "source": [
    "# 필요한 라이브러리 임포트\n",
    "\n",
    "from sklearn.linear_model import LogisticRegression\n",
    "from sklearn.svm import LinearSVC\n",
    "from sklearn.tree import DecisionTreeClassifier\n",
    "from sklearn.naive_bayes import GaussianNB\n",
    "from sklearn.datasets import load_breast_cancer #예제 데이터- 유방암\n",
    "from sklearn.model_selection import train_test_split\n",
    "import pandas as pd\n",
    "import numpy as np"
   ]
  },
  {
   "cell_type": "code",
   "execution_count": 13,
   "metadata": {},
   "outputs": [],
   "source": [
    " # 데이터셋 로드 추가적으로 전처리가 필요한경우 판다스와 넘파이로 전처리\n",
    "cancer = load_breast_cancer()"
   ]
  },
  {
   "cell_type": "code",
   "execution_count": 14,
   "metadata": {},
   "outputs": [],
   "source": [
    "\n",
    "\n",
    "#트레인 테스트 데이터셋 분리\n",
    "X_train, X_test, Y_train, Y_test = train_test_split(\n",
    "     cancer.data, cancer.target, stratify=cancer.target, random_state=42)"
   ]
  },
  {
   "cell_type": "code",
   "execution_count": 18,
   "metadata": {},
   "outputs": [
    {
     "name": "stderr",
     "output_type": "stream",
     "text": [
      "c:\\users\\cndak\\appdata\\local\\programs\\python\\python37\\lib\\site-packages\\sklearn\\linear_model\\logistic.py:432: FutureWarning: Default solver will be changed to 'lbfgs' in 0.22. Specify a solver to silence this warning.\n",
      "  FutureWarning)\n",
      "c:\\users\\cndak\\appdata\\local\\programs\\python\\python37\\lib\\site-packages\\sklearn\\svm\\base.py:929: ConvergenceWarning: Liblinear failed to converge, increase the number of iterations.\n",
      "  \"the number of iterations.\", ConvergenceWarning)\n"
     ]
    }
   ],
   "source": [
    "# 로지스틱, svc는 C값을 설정하여 규제의 강도를 설정가능하다\n",
    "logr=LogisticRegression()\n",
    "logreg=logr.fit(X_train, Y_train)\n",
    "\n",
    "svc=LinearSVC()\n",
    "svcreg=svc.fit(X_train, Y_train)\n",
    "\n",
    "#나이브 베이즈 알고리즘은 베이즈 정리를 기반으로한 조건부 확률을 이용한다.\n",
    "#그 중 가우시안 나이브베이즈는 평균과 표준편차를 저장하여\n",
    "#예측시, 데이터 포인트를 클래스의 통계 값과 비교해 가장 잘 맞는 클래스를 예측값으로 출력\n",
    "#이 외에 베르누이, 다중 나이브베이즈는 주로 텍스트 분류에 이용하여 예제 소스는 추후에 다룰 예정\n",
    "gnb = GaussianNB()\n",
    "gnbcf=gnb.fit(X_train, Y_train)\n",
    "\n",
    "\n",
    "tree=DecisionTreeClassifier()\n",
    "treecf=tree.fit(X_train, Y_train)\n",
    "# DecisionTree의 경우 \n",
    "# from sklearn.tree import export_graphviz\n",
    "# export_graphviz(tree, out_file=\"tree.dot\", class_name=[\"악성\",\"양성\"],\n",
    "#                feature_names=cancer.feature_names, impurity=False, filled=TRUE)\n",
    "#를 통해 시각화를 할 수 있다."
   ]
  },
  {
   "cell_type": "code",
   "execution_count": 19,
   "metadata": {},
   "outputs": [
    {
     "name": "stdout",
     "output_type": "stream",
     "text": [
      "Logistic훈련 세트 정확도 : 0.953\n",
      "Logistic테스트 세트 정확도 : 0.958\n",
      "SVC훈련 세트 정확도 : 0.932\n",
      "SVC테스트 세트 정확도 : 0.944\n",
      "GNB훈련 세트 정확도 : 0.946\n",
      "GNB테스트 세트 정확도 : 0.937\n",
      "DT훈련 세트 정확도 : 1.000\n",
      "DT테스트 세트 정확도 : 0.916\n"
     ]
    }
   ],
   "source": [
    "print('Logistic훈련 세트 정확도 : {:.3f}'.format(logreg.score(X_train, Y_train)))\n",
    "print('Logistic테스트 세트 정확도 : {:.3f}'.format(logreg.score(X_test, Y_test)))\n",
    "\n",
    "print('SVC훈련 세트 정확도 : {:.3f}'.format(svcreg.score(X_train, Y_train)))\n",
    "print('SVC테스트 세트 정확도 : {:.3f}'.format(svcreg.score(X_test, Y_test)))\n",
    "\n",
    "print('GNB훈련 세트 정확도 : {:.3f}'.format(gnbcf.score(X_train, Y_train)))\n",
    "print('GNB테스트 세트 정확도 : {:.3f}'.format(gnbcf.score(X_test, Y_test)))\n",
    "\n",
    "print('DT훈련 세트 정확도 : {:.3f}'.format(treecf.score(X_train, Y_train)))\n",
    "print('DT테스트 세트 정확도 : {:.3f}'.format(treecf.score(X_test, Y_test)))\n",
    "\n",
    "# 훈련 세트와 테스트 세트 정확도를 확인한 후 \n",
    "# 과적합 또는 과소적합 여부를 판단하고 각 라이브러리의 \n",
    "# 하이퍼 파라미터를 조정하여 규제를 완화 또는 강화시키게 된다면\n",
    "# 성능을 높일 수 있다."
   ]
  },
  {
   "cell_type": "code",
   "execution_count": 20,
   "metadata": {},
   "outputs": [],
   "source": [
    "#예측\n",
    "log_pred=logreg.predict(X_test)\n",
    "svc_pred=svcreg.predict(X_test)\n",
    "gnb_pred=gnbcf.predict(X_test)\n",
    "tree_pred=treecf.predict(X_test)\n",
    "\n",
    "#시각화는 별도로 다루도록 함."
   ]
  },
  {
   "cell_type": "code",
   "execution_count": null,
   "metadata": {},
   "outputs": [],
   "source": []
  }
 ],
 "metadata": {
  "kernelspec": {
   "display_name": "Python 3",
   "language": "python",
   "name": "python3"
  },
  "language_info": {
   "codemirror_mode": {
    "name": "ipython",
    "version": 3
   },
   "file_extension": ".py",
   "mimetype": "text/x-python",
   "name": "python",
   "nbconvert_exporter": "python",
   "pygments_lexer": "ipython3",
   "version": "3.7.4"
  }
 },
 "nbformat": 4,
 "nbformat_minor": 4
}
