{
 "cells": [
  {
   "cell_type": "markdown",
   "metadata": {},
   "source": [
    "KoNLPy를 사용한 영화 리뷰 분석 (한국어)\n",
    "\n",
    "- konlpy는 여러 언어로 만들어진 형태소 분석기이다. \n",
    "- 네이버 영화 리뷰 데이터셋 이용\n",
    "  ( 첫줄은 제목, 그 다음 데이터 기록 )\n",
    " "
   ]
  },
  {
   "cell_type": "code",
   "execution_count": 1,
   "metadata": {},
   "outputs": [
    {
     "data": {
      "text/html": [
       "<div>\n",
       "<style scoped>\n",
       "    .dataframe tbody tr th:only-of-type {\n",
       "        vertical-align: middle;\n",
       "    }\n",
       "\n",
       "    .dataframe tbody tr th {\n",
       "        vertical-align: top;\n",
       "    }\n",
       "\n",
       "    .dataframe thead th {\n",
       "        text-align: right;\n",
       "    }\n",
       "</style>\n",
       "<table border=\"1\" class=\"dataframe\">\n",
       "  <thead>\n",
       "    <tr style=\"text-align: right;\">\n",
       "      <th></th>\n",
       "      <th>id</th>\n",
       "      <th>document</th>\n",
       "      <th>label</th>\n",
       "    </tr>\n",
       "  </thead>\n",
       "  <tbody>\n",
       "    <tr>\n",
       "      <th>0</th>\n",
       "      <td>9976970</td>\n",
       "      <td>아 더빙.. 진짜 짜증나네요 목소리</td>\n",
       "      <td>0</td>\n",
       "    </tr>\n",
       "    <tr>\n",
       "      <th>1</th>\n",
       "      <td>3819312</td>\n",
       "      <td>흠...포스터보고 초딩영화줄....오버연기조차 가볍지 않구나</td>\n",
       "      <td>1</td>\n",
       "    </tr>\n",
       "    <tr>\n",
       "      <th>2</th>\n",
       "      <td>10265843</td>\n",
       "      <td>너무재밓었다그래서보는것을추천한다</td>\n",
       "      <td>0</td>\n",
       "    </tr>\n",
       "    <tr>\n",
       "      <th>3</th>\n",
       "      <td>9045019</td>\n",
       "      <td>교도소 이야기구먼 ..솔직히 재미는 없다..평점 조정</td>\n",
       "      <td>0</td>\n",
       "    </tr>\n",
       "    <tr>\n",
       "      <th>4</th>\n",
       "      <td>6483659</td>\n",
       "      <td>사이몬페그의 익살스런 연기가 돋보였던 영화!스파이더맨에서 늙어보이기만 했던 커스틴 ...</td>\n",
       "      <td>1</td>\n",
       "    </tr>\n",
       "  </tbody>\n",
       "</table>\n",
       "</div>"
      ],
      "text/plain": [
       "         id                                           document  label\n",
       "0   9976970                                아 더빙.. 진짜 짜증나네요 목소리      0\n",
       "1   3819312                  흠...포스터보고 초딩영화줄....오버연기조차 가볍지 않구나      1\n",
       "2  10265843                                  너무재밓었다그래서보는것을추천한다      0\n",
       "3   9045019                      교도소 이야기구먼 ..솔직히 재미는 없다..평점 조정      0\n",
       "4   6483659  사이몬페그의 익살스런 연기가 돋보였던 영화!스파이더맨에서 늙어보이기만 했던 커스틴 ...      1"
      ]
     },
     "execution_count": 1,
     "metadata": {},
     "output_type": "execute_result"
    }
   ],
   "source": [
    "#데이터는 탭으로 구분되어 있다. \n",
    "import pandas as pd\n",
    "\n",
    "df_train = pd.read_csv('ratings_train.txt', delimiter = '\\t', keep_default_na = False)\n",
    "\n",
    "df_train.head()"
   ]
  },
  {
   "cell_type": "code",
   "execution_count": 2,
   "metadata": {},
   "outputs": [],
   "source": [
    "#여기서 document열과 label열을 이용 0이면 부정 1이면 긍정적\n",
    "#데이터 프레임을 Numpy 배열로 변환\n",
    "import numpy as np\n",
    "\n",
    "text_train, y_train = df_train['document'].values, df_train['label'].values"
   ]
  },
  {
   "cell_type": "code",
   "execution_count": 3,
   "metadata": {},
   "outputs": [],
   "source": [
    "df_test = pd.read_csv('ratings_test.txt', delimiter ='\\t', keep_default_na = False)\n",
    "\n",
    "text_test = df_test['document'].values\n",
    "y_test = df_test['label'].values"
   ]
  },
  {
   "cell_type": "code",
   "execution_count": 4,
   "metadata": {},
   "outputs": [
    {
     "data": {
      "text/plain": [
       "(150000, Counter({0: 75173, 1: 74827}))"
      ]
     },
     "execution_count": 4,
     "metadata": {},
     "output_type": "execute_result"
    }
   ],
   "source": [
    "#비율 확인\n",
    "from collections import Counter\n",
    "\n",
    "len(text_train), Counter(y_train)"
   ]
  },
  {
   "cell_type": "code",
   "execution_count": 5,
   "metadata": {},
   "outputs": [
    {
     "data": {
      "text/plain": [
       "(50000, Counter({1: 25173, 0: 24827}))"
      ]
     },
     "execution_count": 5,
     "metadata": {},
     "output_type": "execute_result"
    }
   ],
   "source": [
    "len(text_test), Counter(y_test)"
   ]
  },
  {
   "cell_type": "markdown",
   "metadata": {},
   "source": [
    "- 데이터 비율은 비슷하다. "
   ]
  },
  {
   "cell_type": "code",
   "execution_count": 16,
   "metadata": {},
   "outputs": [],
   "source": [
    "#konlpy okt객체 생성\n",
    "from konlpy.tag import Okt\n",
    "okt_tag = Okt()"
   ]
  },
  {
   "cell_type": "code",
   "execution_count": 10,
   "metadata": {},
   "outputs": [],
   "source": [
    "#TfidFVectorizer의 tokenizer 매개변수 주입할 함수 생성\n",
    "#okt의 형태소 분석 메서드인 morphs 받은 문자열의 리스트를 그대로 반환\n",
    "def okt_tokenizer(text):\n",
    "    return okt_tag.morphs(text)"
   ]
  },
  {
   "cell_type": "code",
   "execution_count": 11,
   "metadata": {},
   "outputs": [
    {
     "name": "stdout",
     "output_type": "stream",
     "text": [
      "최상 교차 검증 점수 : 0.7039914165662667\n",
      "최적 교차 검증 매개변수 : {'logisticregression__C': 1, 'tfidfvectorizer__min_df': 3, 'tfidfvectorizer__ngram_range': (1, 1)}\n"
     ]
    }
   ],
   "source": [
    "#Tfidf의 min_df와 ngram_range, LogisticRegression의 C에 대한 그리드서치진행\n",
    "#훈련 데이터 1000개만 적용\n",
    "\n",
    "from sklearn.feature_extraction.text import TfidfVectorizer\n",
    "from sklearn.linear_model import LogisticRegression\n",
    "from sklearn.pipeline import make_pipeline\n",
    "from sklearn.model_selection import GridSearchCV\n",
    "\n",
    "okt_param_grid = {'tfidfvectorizer__min_df':[3,5,7],\n",
    "                 'tfidfvectorizer__ngram_range':[(1,1),(1,2),(1,3)],\n",
    "                 'logisticregression__C':[0.1,1,10]}\n",
    "okt_pipe = make_pipeline(TfidfVectorizer(tokenizer = okt_tokenizer),\n",
    "                        LogisticRegression(solver='liblinear'))\n",
    "\n",
    "okt_grid = GridSearchCV(okt_pipe, okt_param_grid, cv=3)\n",
    "\n",
    "#그리드 서치 수행\n",
    "okt_grid.fit(text_train[0:1000], y_train[0:1000])\n",
    "print('최상 교차 검증 점수 :', okt_grid.best_score_)\n",
    "print('최적 교차 검증 매개변수 :', okt_grid.best_params_)"
   ]
  },
  {
   "cell_type": "markdown",
   "metadata": {},
   "source": [
    "- 1000개의 데이터만 이용해도 70% 가까운 교차검증 점수 획득"
   ]
  },
  {
   "cell_type": "code",
   "execution_count": 20,
   "metadata": {},
   "outputs": [
    {
     "name": "stdout",
     "output_type": "stream",
     "text": [
      "테스트 셋 점수 : 0.70516\n"
     ]
    }
   ],
   "source": [
    "#테스트 셋에 대한 점수 획득\n",
    "\n",
    "X_test_okt = okt_grid.best_estimator_.named_steps['tfidfvectorizer'].transform(text_test)\n",
    "score = okt_grid.best_estimator_.named_steps['logisticregression'].score(X_test_okt,y_test)\n",
    "\n",
    "print('테스트 셋 점수 :', score)"
   ]
  },
  {
   "cell_type": "markdown",
   "metadata": {},
   "source": [
    "- 전체 훈련 데이터셋 이용하면 그리드 서치에 시간이 오래걸린다. \n",
    "- n_jobs의 매개변수를 조정하여 병렬로 처리 가능하다. "
   ]
  },
  {
   "cell_type": "code",
   "execution_count": null,
   "metadata": {},
   "outputs": [],
   "source": [
    "#Konlpy의 Mecab 태크 클래스가 있지만 윈도우에서는 지원이 되지 않아 예제만 작성\n",
    "\n",
    "from konlpy.tag import Mecab\n",
    "mecab = Mecab()\n",
    "\n",
    "def mecab_tokenizer(text):\n",
    "    return mecab.morphs(text)"
   ]
  },
  {
   "cell_type": "code",
   "execution_count": null,
   "metadata": {},
   "outputs": [],
   "source": [
    "#Mecab의 그리드서치\n",
    "\n",
    "mecab_param_grid = {'tfidfvecotrizer__min_df':[3,5,7],\n",
    "                   'tfidfvectorizer__ngram_range':[(1,1),(1,2),(1,3)],\n",
    "                   'logisticregression__C':[0.1,1,10,100]}\n",
    "mecab_pipe = make_pipeline(TfidfVectorizer(tokenizer=mecab_tokenizer),\n",
    "                          LogisticRegression(solver='liblinear'))\n",
    "mecab_grid = GridSearchCV(mecab_pipe, mecab_param_grid, n_jobs = 1, cv = 3)\n",
    "\n",
    "#그리드 서치 수행\n",
    "mecab_grid.fit(text_train, y_train)\n",
    "print('최상의 CV 점수 :',mecab_grid.best_score_)\n",
    "print('최상의 CV parmas :', mecab_grid.best_params_)\n"
   ]
  },
  {
   "cell_type": "code",
   "execution_count": null,
   "metadata": {},
   "outputs": [],
   "source": [
    "#Mecat 테스트 점수\n",
    "X_test_mecab = mecab_grid.best_estimator_.named_steps['tfidfvectorizer'].transform(text_test)\n",
    "\n",
    "score = mecab_grid.best_estimator_.named_steps['logisticregression'].score(X_test_mecab, y_test)\n",
    "print('테스트 점수 :', score)"
   ]
  },
  {
   "cell_type": "markdown",
   "metadata": {},
   "source": [
    "토픽 모델링과 문서 군집화 \n",
    "\n",
    "- 텍스트 데이터에 자주 적용하는 특별한 기법으로 토픽 모델링이 있다. \n",
    "- 비지도 학습으로서 문서를 하나 또는 그 이상의 토픽으로 할당하는 작업을 통칭한다. \n",
    "- 한 문서가 하나의 토픽에 할당되면 문서를 군집시키는 문제가 된다. \n",
    "- 둘 이상의 토픽을 가지면 분해 방법과 관련이 있다. \n",
    "- 토픽 모델링을 언급할 때 잠재 디리클레 할당(LDA)라고 하는 특정 성부 분해 방법을 말한다.\n",
    "\n",
    "    1) LDA\n",
    "    - 함께 자주 나타나는 단어의 그룹(토픽)을 찾는 것이다. \n",
    "    - 각 문서에 토픽의 일부가 혼합되어 있다고 간주 \n",
    "    - 우리가 일상에서 말하는 주제가 아닌 PCA나 NMF로 추출한 성분에 가깝다"
   ]
  },
  {
   "cell_type": "code",
   "execution_count": 21,
   "metadata": {},
   "outputs": [
    {
     "name": "stdout",
     "output_type": "stream",
     "text": [
      "text_train 타입 :  <class 'list'>\n",
      "text_train 길이 : 75000\n",
      "text_train[6]:\n",
      " b'Gloomy Sunday - Ein Lied von Liebe und Tod directed by Rolf Sch\\xc3\\xbcbel in 1999 is a romantic, absorbing, beautiful, and heartbreaking movie. It started like Jules and Jim; it ended as one of Agatha Christie\\'s books, and in between it said something about love, friendship, devotion, jealousy, war, Holocaust, dignity, and betrayal, and it did better than The Black Book which is much more popular. It is not perfect, and it made me, a cynic, wonder in the end on the complexity of the relationships and sensational revelations, and who is who to whom but the movie simply overwhelmed me. Perfect or not, it is unforgettable. All four actors as the parts of the tragic not even a triangle but a rectangle were terrific. I do believe that three men could fell deeply for one girl as beautiful and dignified as Ilona in a star-making performance by young Hungarian actress Erica Marozs\\xc3\\xa1n and who would not? The titular song is haunting, sad, and beautiful, and no doubt deserves the movie been made about it and its effect on the countless listeners. I love the movie and I am surprised that it is so little known in this country. It is a gem.<br /><br />The fact that it is based on a story of the song that had played such important role in the lives of all characters made me do some research, and the real story behind the song of Love and Death seems as fascinating as the fictional one. The song was composed in 1930s by Rezs\\xc3\\xb6 Seress and was believed to have caused many suicides in Hungary and all over Europe as the world was moving toward the most devastating War of the last century. Rezs\\xc3\\xb6 Seress, a Jewish-Hungarian pianist and composer, was thrown to the Concentration Camp but survived, unlike his mother. In January, 1968, Seress committed suicide in Budapest by jumping out of a window. According to his obituary in the New York Times, \"Mr. Seres complained that the success of \"Gloomy Sunday\" actually increased his unhappiness, because he knew he would never be able to write a second hit.\" <br /><br />Many singers from all over the world have recorded their versions of the songs in different languages. Over 70 performers have covered the song since 1935, and some famous names include Billie Holiday, Paul Robeson, Pyotr Leschenko (in Russian, under title \"Mratschnoje Woskresenje\"), Bjork, Sarah McLachlan, and many more. The one that really got to me and made me shiver is by Diamanda Gal\\xc3\\xa1s, the Greek born American singer/pianist/performer with the voice of such tragic power that I still can\\'t get over her singing. Gal\\xc3\\xa1s has been described as \"capable of the most unnerving vocal terror\", and in her work she mostly concentrates on the topics of \"suffering, despair, condemnation, injustice and loss of dignity.\" When she sings the Song of Love and Death, her voice that could\\'ve belonged to the most tragic heroines of Ancient Greece leaves no hope and brings the horror and grief of love lost forever to the unbearable and incomparable heights.<br /><br />8.5/10'\n"
     ]
    }
   ],
   "source": [
    "from sklearn.datasets import load_files\n",
    "\n",
    "reviews_train = load_files('aclImdb_v1.tar/aclImdb/train/')\n",
    "\n",
    "#텍스트, 레이블 포함한 Brunch 오브젝트 반환\n",
    "\n",
    "text_train, y_train = reviews_train.data, reviews_train.target\n",
    "\n",
    "print('text_train 타입 : ', type(text_train))\n",
    "print('text_train 길이 :', len(text_train))\n",
    "print('text_train[6]:\\n', text_train[6])"
   ]
  },
  {
   "cell_type": "code",
   "execution_count": 23,
   "metadata": {},
   "outputs": [],
   "source": [
    "#실제 LDA 작동확인을 위해 15%의 문서에 나타난 단어를 삭제한후 가장 많이 등장하는 단어 10,000개에 대한 BOW 모델 생성\n",
    "from sklearn.feature_extraction.text import CountVectorizer\n",
    "\n",
    "vect = CountVectorizer(max_features =10000, max_df = .15)\n",
    "X = vect.fit_transform(text_train)"
   ]
  },
  {
   "cell_type": "markdown",
   "metadata": {},
   "source": [
    "- 10개의 토픽으로 토픽 모델 학습\n",
    "- NMF의 성분과 비슷하게 토픽은 순서를 가지지 않으며, 토픽의 수를 바꾸면 모든 토픽이 바뀌게 된다. \n",
    "- 기본 학습 방법('online') 대신 조금 느리지만 성능이 더 나은 'batch'방법을 사용하고 모델 성능을 위해 max_iter값 증가\n",
    "\n",
    "(NMF와 LDA는 유사한 문제를 풀 수 있어 토픽 추출에 NMF 이용 가능 )\n",
    "(LDA는 온라인 변분 베이즈 알고리즘을 이용하여 max_iter 매개변수의 기본값은 10이다)"
   ]
  },
  {
   "cell_type": "code",
   "execution_count": 25,
   "metadata": {},
   "outputs": [],
   "source": [
    "from sklearn.decomposition import LatentDirichletAllocation\n",
    "\n",
    "lda = LatentDirichletAllocation(n_components = 10, learning_method= 'batch', max_iter = 25, random_state = 0)\n",
    "\n",
    "#모델 생성과 변환 한번에 시도\n",
    "#변환시간이 좀 걸린다. \n",
    "document_topics = lda.fit_transform(X)"
   ]
  },
  {
   "cell_type": "code",
   "execution_count": 27,
   "metadata": {},
   "outputs": [
    {
     "name": "stdout",
     "output_type": "stream",
     "text": [
      "lda.components_.shape (10, 10000)\n"
     ]
    }
   ],
   "source": [
    "#LDA는 각 토픽마다 중요도를 저장한 components_속성이 있따. 크기는(n_topics, n_words)다\n",
    "print('lda.components_.shape', lda.components_.shape)"
   ]
  },
  {
   "cell_type": "code",
   "execution_count": 28,
   "metadata": {},
   "outputs": [
    {
     "name": "stdout",
     "output_type": "stream",
     "text": [
      "topic 0       topic 1       topic 2       topic 3       topic 4       \n",
      "--------      --------      --------      --------      --------      \n",
      "action        guy           war           show          didn          \n",
      "game          re            world         series        thought       \n",
      "effects       around        american      tv            actors        \n",
      "special       nothing       us            episode       nothing       \n",
      "fight         sex           our           years         am            \n",
      "fi            looks         documentary   old           10            \n",
      "sci           pretty        history       now           worst         \n",
      "10            look          real          kids          going         \n",
      "star          worst         black         dvd           got           \n",
      "alien         stupid        america       shows         actually      \n",
      "\n",
      "\n",
      "topic 5       topic 6       topic 7       topic 8       topic 9       \n",
      "--------      --------      --------      --------      --------      \n",
      "director      horror        funny         father        role          \n",
      "work          gore          comedy        wife          cast          \n",
      "between       killer        girl          woman         john          \n",
      "us            original      doesn         young         performance   \n",
      "real          dead          humor         family        actor         \n",
      "may           blood         school        mother        plays         \n",
      "without       scary         fun           son           played        \n",
      "both          quite         guy           police        star          \n",
      "audience      budget        laugh         gets          screen        \n",
      "yet           genre         jokes         home          james         \n",
      "\n",
      "\n"
     ]
    },
    {
     "name": "stderr",
     "output_type": "stream",
     "text": [
      "c:\\python\\python38\\lib\\site-packages\\sklearn\\externals\\six.py:28: FutureWarning: The module is deprecated in version 0.21 and will be removed in version 0.23 since we've dropped support for Python 2.7. Please rely on the official version of six (https://pypi.org/project/six/).\n",
      "  warnings.warn(\"The module is deprecated in version 0.21 and will be removed \"\n",
      "c:\\python\\python38\\lib\\site-packages\\sklearn\\externals\\joblib\\__init__.py:15: FutureWarning: sklearn.externals.joblib is deprecated in 0.21 and will be removed in 0.23. Please import this functionality directly from joblib, which can be installed with: pip install joblib. If this warning is raised when loading pickled models, you may need to re-serialize those models with scikit-learn 0.21+.\n",
      "  warnings.warn(msg, category=FutureWarning)\n"
     ]
    }
   ],
   "source": [
    "#각 토픽이 의미하는 것이 무엇인지 이해하기 위해 토픽에서 가장 중요 단어 확인 - print_topics\n",
    "import numpy as np\n",
    "\n",
    "#토픽마다(components_의 행)을 오름차순으로 정렬\n",
    "#내림차순이 되도록 [:, ::-1]를 이용해 행의 정렬을 반대로 바꾼다. \n",
    "sorting = np.argsort(lda.components_, axis = 1)[:,::-1]\n",
    "\n",
    "#Countervectorizer 객체에서 특성 이름 구한다. \n",
    "feature_names = np.array(vect.get_feature_names())\n",
    "\n",
    "#10개 토픽 출력\n",
    "import mglearn\n",
    "\n",
    "mglearn.tools.print_topics(topics=range(10), feature_names = feature_names, sorting=sorting, topics_per_chunk = 5, n_words = 10)"
   ]
  },
  {
   "cell_type": "code",
   "execution_count": 29,
   "metadata": {},
   "outputs": [],
   "source": [
    "#100개의 토픽으로 새로운 모델 학습 - 많은 토픽 이용하면 분석은 어려워지지만 데이터의 특이한 부분을 잘 잡을 수 있다. \n",
    "\n",
    "lda100 = LatentDirichletAllocation(n_components = 100, learning_method='batch', max_iter =25, random_state = 0)\n",
    "document_topics100 = lda100.fit_transform(X)"
   ]
  },
  {
   "cell_type": "code",
   "execution_count": 30,
   "metadata": {},
   "outputs": [
    {
     "name": "stdout",
     "output_type": "stream",
     "text": [
      "topic 7       topic 16      topic 24      topic 25      topic 28      \n",
      "--------      --------      --------      --------      --------      \n",
      "allen         dvd           virus         island        town          \n",
      "woody         video         cannibal      plane         western       \n",
      "rose          budget        franco        ship          west          \n",
      "julia         low           jungle        captain       small         \n",
      "chaplin       store         freaks        crash         sheriff       \n",
      "roberts       copy          flesh         flight        mexican       \n",
      "real          find          eating        treasure      westerns      \n",
      "woman         production    circus        flying        mexico        \n",
      "restaurant    cover         disease       air           gold          \n",
      "plays         buy           tribe         harvey        local         \n",
      "bar           rent          apocalypse    lost          wild          \n",
      "wife          bought        italian       airport       gun           \n",
      "manhattan     worth         native        sky           indians       \n",
      "charlie       box           fulci         pirates       morris        \n",
      "play          quality       homeless      pirate        old           \n",
      "screen        release       eat           airplane      spaghetti     \n",
      "diane         vhs           plague        sea           horses        \n",
      "dinner        released      legs          disaster      coast         \n",
      "new           local         troll         board         shot          \n",
      "writer        money         holocaust     passengers    james         \n",
      "\n",
      "\n",
      "topic 36      topic 37      topic 41      topic 45      topic 51      \n",
      "--------      --------      --------      --------      --------      \n",
      "vampire       game          black         rather        cop           \n",
      "hot           games         white         seems         police        \n",
      "devil         play          ha            fact          crime         \n",
      "sexy          fantasy       racist        perhaps       gang          \n",
      "women         graphics      color         however       gangster      \n",
      "girls         computer      american      audience      boss          \n",
      "girl          video         racism        though        cops          \n",
      "vampires      played        african       doesn         mob           \n",
      "demon         playing       stereotypes   point         criminal      \n",
      "naked         fun           rocky         less          con           \n",
      "witch         final         racial        might         criminals     \n",
      "pretty        level         americans     enough        mafia         \n",
      "satan         world         carter        despite       noir          \n",
      "priest        bourne        race          far           tough         \n",
      "price         3d            bloom         director      bank          \n",
      "doll          adventure     blacks        seem          partner       \n",
      "chick         player        thomas        simply        robbery       \n",
      "looks         levels        slaves        isn           money         \n",
      "woman         dub           slavery       given         gangsters     \n",
      "looking       cgi           slave         least         pink          \n",
      "\n",
      "\n",
      "topic 53      topic 54      topic 63      topic 89      topic 97      \n",
      "--------      --------      --------      --------      --------      \n",
      "oscar         night         prison        worst         eddie         \n",
      "award         rock          escape        awful         nick          \n",
      "won           late          street        waste         murphy        \n",
      "picture       80            freddy        terrible      al            \n",
      "winning       music         nightmare     money         max           \n",
      "academy       early         guard         horrible      rain          \n",
      "anna          80s           prisoners     crap          thief         \n",
      "performance   cool          cell          actors        et            \n",
      "awards        day           sent          stupid        elvis         \n",
      "win           remember      security      worse         diamond       \n",
      "nominated     saturday      cooper        nothing       thompson      \n",
      "deserved      tv            jesse         want          brosnan       \n",
      "winner        70s           jail          piece         rod           \n",
      "year          70            guards        actually      costner       \n",
      "penn          fun           prisoner      avoid         jewel         \n",
      "scorsese      saw           asylum        script        pierce        \n",
      "screenplay    morning       elm           please        midler        \n",
      "director      soundtrack    bars          believe       48            \n",
      "oscars        now           inmates       garbage       nolte         \n",
      "actor         roll          snake         anyone        huston        \n",
      "\n",
      "\n"
     ]
    }
   ],
   "source": [
    "#100의 토픽을 나열하면 길어 대표 토픽 확인\n",
    "\n",
    "topics = np.array([7,16, 24,25,28,36,37,41,45,51,53,54,63,89,97])\n",
    "\n",
    "sorting = np.argsort(lda100.components_, axis = 1)[:,::-1]\n",
    "feature_names = np.array(vect.get_feature_names())\n",
    "mglearn.tools.print_topics(topics=topics, feature_names=feature_names, sorting = sorting, topics_per_chunk=5, n_words = 20)"
   ]
  },
  {
   "cell_type": "markdown",
   "metadata": {},
   "source": [
    "- 추출한 토픽이 구체적으로 보이지만, 해석하기는 어렵다. \n",
    "- 토픽을 이용해 추론을 더 잘하려면 토픽에 할당된 문서를 보고 가장 높은 순위의 단어를 확인해야 하낟. "
   ]
  },
  {
   "cell_type": "code",
   "execution_count": 31,
   "metadata": {},
   "outputs": [
    {
     "name": "stdout",
     "output_type": "stream",
     "text": [
      "b'A superior work that takes itself seriously, but avoids the tiresome moralizing so often accompnaying American films of the same subject matter. See it if you can,\\n'\n",
      "b\"Che is a good film for chronicling the events leading to the Cuban Revolution and certainly has a mystic potency surrounding Che and his political ideals. However there is no emotional core or compassionate deliverance to make this anything more than interesting, and is a friendly inspection of Che's mindset rather than anything inspiring,\\n\"\n",
      "b\"If you were to cut an hour of this movie you might have something a little bit entertaining, although even then I don't think you'd have anything memorable. But at its full, seemingly endless length this movie just meanders on endlessly,\\n\"\n",
      "b\"It's this sort of movie that you try and imitate. By attempting to realise something,\\n\"\n",
      "b'This unpleasant film has little to recommend it. Dolph Lundgren gives a performance that is better than either this script or his other action films have allowed,\\n'\n",
      "b'For once it is reasonably clear why the heroine falls in love with the hero, and also the motivation of the hero, even if it is unlikely, is well presented. This was one of the few movies that actually made me cry, and its images of Kashmir are beautiful,\\n'\n",
      "b'This is not a good film. The acting is remarkably stiff and unconvincing,\\n'\n",
      "b'This is not a good film. The acting is remarkably stiff and unconvincing,\\n'\n",
      "b'absurdly overrated vehicle for Marin county anorexics, of interest<br /><br />only to older men charmed by, but largely excluded from, the<br /><br />pretentions of the privileged young. also, of course, to historians of<br /><br />the lesser directors of the old new wave,\\n'\n",
      "b'An overlong, highly episodic excuse for some burlesque and indulgent violence masquerading part-time as a film of historical interest and validity. With Leonardo scowling, Diaz giggling and Day Lewis doing his best De Niro, this film takes itself far too seriously for the leaden-handed and juvenile treatment of a story which seems suspect the moment you think about it,\\n'\n"
     ]
    }
   ],
   "source": [
    "#음악적 토픽 45를 가중치로 정렬\n",
    "music = np.argsort(document_topics100[:, 45])[::-1]\n",
    "\n",
    "#이 토픽이 ㅁ비중이 큰 문서 다섯개 출력\n",
    "for i in music[:10]:\n",
    "    #첫 두문장 출력\n",
    "    print(b\".\".join(text_train[i].split(b\".\")[:2])+b\",\\n\")"
   ]
  },
  {
   "cell_type": "markdown",
   "metadata": {},
   "source": [
    "- 토픽을 조사하는 다른 방법은 각 토픽의 가중치가 얼마인지 모든 리뷰에 걸쳐 document_topics의 값을\n",
    "\n",
    "  합해서 보는 것이다. \n",
    "  \n",
    "- 각 토픽을 대표하는 두 단어로 토픽 이름을 붙였다."
   ]
  },
  {
   "cell_type": "code",
   "execution_count": 34,
   "metadata": {},
   "outputs": [
    {
     "data": {
      "image/png": "[encoded data removed]",
      "text/plain": [
       "<Figure size 720x720 with 2 Axes>"
      ]
     },
     "metadata": {
      "needs_background": "light"
     },
     "output_type": "display_data"
    }
   ],
   "source": [
    "#학습된 토픽의 가중치\n",
    "import matplotlib.pyplot as plt\n",
    "fig, ax = plt.subplots(1,2,figsize=(10,10))\n",
    "topic_names = [\"{:>2}\".format(i) + \" \".join(words)\n",
    "              for i, words in enumerate(feature_names[sorting[:,:2]])]\n",
    "\n",
    "#열이 두개인 막대 그래프\n",
    "\n",
    "for col in [0, 1] :\n",
    "    start = col*50\n",
    "    end = (col+1)*50\n",
    "    ax[col].barh(np.arange(50), np.sum(document_topics100, axis = 0)[start:end])\n",
    "    ax[col].set_yticks(np.arange(50))\n",
    "    ax[col].set_yticklabels(topic_names[start:end], ha = 'left', va ='top')\n",
    "    ax[col].invert_yaxis()\n",
    "    ax[col].set_xlim(0,2000)\n",
    "    yax = ax[col].get_yaxis()\n",
    "    yax.set_tick_params(pad=130)\n",
    "plt.tight_layout()"
   ]
  },
  {
   "cell_type": "markdown",
   "metadata": {},
   "source": [
    "- LDA와 같은 토픽 모델은 레이블이 없거나 레이블이 있더라도 큰 규모의 텍스트 말뭉치를 해석하는데 좋은 방법이다. \n",
    "- LDA는 확률적 알고리즘이기 때문에 random_state 매개변수를 바꾸면 결과가 많이 달라진다. \n",
    "- 토픽으로 구별하는게 도움이 되더라도 비지도 학습에서 내린 결론은 각 토픽에 해당하는 문서를 직접보고\n",
    "  \n",
    "  검증하는 것이 좋다. \n",
    "- LDA.transform 메서드에서 만든 토픽이 지도 학습을 위한 압축된 표현으로 사용될 수 있다. (훈련 샘플 적을 때 유용 )"
   ]
  },
  {
   "cell_type": "code",
   "execution_count": null,
   "metadata": {},
   "outputs": [],
   "source": []
  }
 ],
 "metadata": {
  "kernelspec": {
   "display_name": "Python 3",
   "language": "python",
   "name": "python3"
  },
  "language_info": {
   "codemirror_mode": {
    "name": "ipython",
    "version": 3
   },
   "file_extension": ".py",
   "mimetype": "text/x-python",
   "name": "python",
   "nbconvert_exporter": "python",
   "pygments_lexer": "ipython3",
   "version": "3.8.1"
  }
 },
 "nbformat": 4,
 "nbformat_minor": 4
}
